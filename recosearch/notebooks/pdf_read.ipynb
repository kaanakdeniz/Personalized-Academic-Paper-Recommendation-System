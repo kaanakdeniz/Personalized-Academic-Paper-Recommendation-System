{
 "cells": [
  {
   "cell_type": "code",
   "execution_count": 66,
   "metadata": {},
   "outputs": [],
   "source": [
    "import itertools\n",
    "\n",
    "import pandas as pd\n",
    "import requests\n",
    "import untangle\n",
    "\n",
    "\n",
    "class APIOperator:\n",
    "    def findsubsets(self,s, n): \n",
    "        return list(itertools.combinations(s, n))\n",
    "\n",
    "    def create_query_urls(self, iterable, max_results=10):\n",
    "\n",
    "        urls = []\n",
    "        queries = self.findsubsets(iterable,len(iterable)-2)\n",
    "        queries = [' '.join(q) for q in queries]\n",
    "        for query in queries:\n",
    "            urls.append(\"http://export.arxiv.org/api/query?search_query=all:\" +\n",
    "                        query + \"&max_results=\"+str(max_results))\n",
    "\n",
    "        return urls\n",
    "       \n",
    "\n",
    "    def parse_xml(self, url):\n",
    "\n",
    "        page = requests.get(url).text\n",
    "        xml = untangle.parse(page)\n",
    "        feed = xml.feed\n",
    "\n",
    "        return feed\n",
    "\n",
    "    def get_articles(self, feed):\n",
    "\n",
    "        articles = []\n",
    "\n",
    "        try:\n",
    "            for item in feed.entry:\n",
    "\n",
    "                title = item.title.cdata\n",
    "                summary = item.summary.cdata\n",
    "                pdf = item.id.cdata\n",
    "                pdf = pdf.replace(\"abs\", \"pdf\")\n",
    "                published_date = item.published.cdata\n",
    "                authors = [author.name.cdata for author in item.author]       \n",
    "                article = {\n",
    "                    \"title\": title,\n",
    "                    \"summary\": summary,\n",
    "                    \"pdf\": pdf,\n",
    "                    \"published_date\":published_date,\n",
    "                    \"authors\": authors\n",
    "                }\n",
    "                articles.append(article)\n",
    "        except:\n",
    "            pass\n",
    "\n",
    "        return articles\n",
    "\n",
    "\n",
    "    def get_article_queries(self, urls):\n",
    "\n",
    "        articleList = []\n",
    "        for url in urls:        \n",
    "            xml = self.parse_xml(url)\n",
    "            articles = self.get_articles(xml) \n",
    "            articleList += articles        \n",
    "\n",
    "        return articleList\n"
   ]
  },
  {
   "cell_type": "code",
   "execution_count": null,
   "metadata": {},
   "outputs": [],
   "source": [
    "from sklearn.feature_extraction.text import TfidfVectorizer\n",
    "from sklearn.metrics.pairwise import cosine_similarity\n",
    "def get_similarity(doc1, doc2):\n",
    "        \n",
    "        vectorizer = TfidfVectorizer()\n",
    "\n",
    "        v1 = vectorizer.fit_transform(doc1)\n",
    "        v2 = vectorizer.transform(doc2)\n",
    "\n",
    "        similarity = cosine_similarity(v1, v2)\n",
    "\n",
    "        return round(similarity.mean(axis=0)[0],3)*100"
   ]
  },
  {
   "cell_type": "code",
   "execution_count": null,
   "metadata": {},
   "outputs": [],
   "source": [
    "profile = pd.read_csv(\"../profile.csv\")\n",
    "res = pd.read_csv(\"../query2.csv\")"
   ]
  },
  {
   "cell_type": "code",
   "execution_count": null,
   "metadata": {},
   "outputs": [],
   "source": [
    "allprofile = profile.text[0:3].to_list()"
   ]
  },
  {
   "cell_type": "code",
   "execution_count": null,
   "metadata": {},
   "outputs": [],
   "source": [
    "keywords = ['rotation', 'representation', 'learning','keypoint', 'detection', 'map', 'face', 'data', 'coded', ]"
   ]
  },
  {
   "cell_type": "code",
   "execution_count": 67,
   "metadata": {},
   "outputs": [],
   "source": [
    "api = APIOperator()\n",
    "urls = api.create_query_urls(keywords)"
   ]
  },
  {
   "cell_type": "code",
   "execution_count": 68,
   "metadata": {},
   "outputs": [],
   "source": [
    "rs = api.get_article_queries(urls)"
   ]
  },
  {
   "cell_type": "code",
   "execution_count": 69,
   "metadata": {
    "tags": [
     "outputPrepend"
    ]
   },
   "outputs": [],
   "source": [
    "results = []\n",
    "for txt in rs:\n",
    "    results.append(get_similarity(allprofile,[txt['summary']]))"
   ]
  },
  {
   "cell_type": "code",
   "execution_count": 70,
   "metadata": {},
   "outputs": [
    {
     "output_type": "execute_result",
     "data": {
      "text/plain": "        0\n212  24.1\n38   24.1\n65   24.1\n74   24.1\n348  24.1\n..    ...\n125   9.5\n126   9.0\n69    6.5\n75    6.5\n9     6.5\n\n[360 rows x 1 columns]",
      "text/html": "<div>\n<style scoped>\n    .dataframe tbody tr th:only-of-type {\n        vertical-align: middle;\n    }\n\n    .dataframe tbody tr th {\n        vertical-align: top;\n    }\n\n    .dataframe thead th {\n        text-align: right;\n    }\n</style>\n<table border=\"1\" class=\"dataframe\">\n  <thead>\n    <tr style=\"text-align: right;\">\n      <th></th>\n      <th>0</th>\n    </tr>\n  </thead>\n  <tbody>\n    <tr>\n      <th>212</th>\n      <td>24.1</td>\n    </tr>\n    <tr>\n      <th>38</th>\n      <td>24.1</td>\n    </tr>\n    <tr>\n      <th>65</th>\n      <td>24.1</td>\n    </tr>\n    <tr>\n      <th>74</th>\n      <td>24.1</td>\n    </tr>\n    <tr>\n      <th>348</th>\n      <td>24.1</td>\n    </tr>\n    <tr>\n      <th>...</th>\n      <td>...</td>\n    </tr>\n    <tr>\n      <th>125</th>\n      <td>9.5</td>\n    </tr>\n    <tr>\n      <th>126</th>\n      <td>9.0</td>\n    </tr>\n    <tr>\n      <th>69</th>\n      <td>6.5</td>\n    </tr>\n    <tr>\n      <th>75</th>\n      <td>6.5</td>\n    </tr>\n    <tr>\n      <th>9</th>\n      <td>6.5</td>\n    </tr>\n  </tbody>\n</table>\n<p>360 rows × 1 columns</p>\n</div>"
     },
     "metadata": {},
     "execution_count": 70
    }
   ],
   "source": [
    "pd.DataFrame(results).sort_values(by=0,ascending=False)"
   ]
  },
  {
   "cell_type": "code",
   "execution_count": null,
   "metadata": {},
   "outputs": [],
   "source": []
  }
 ],
 "metadata": {
  "language_info": {
   "codemirror_mode": {
    "name": "ipython",
    "version": 3
   },
   "file_extension": ".py",
   "mimetype": "text/x-python",
   "name": "python",
   "nbconvert_exporter": "python",
   "pygments_lexer": "ipython3",
   "version": "3.7.4-final"
  },
  "orig_nbformat": 2,
  "kernelspec": {
   "name": "python37464bitenvvenv84e71795e62547b6a0b5506e2024d460",
   "display_name": "Python 3.7.4 64-bit ('env': venv)"
  }
 },
 "nbformat": 4,
 "nbformat_minor": 2
}